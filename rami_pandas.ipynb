{
  "nbformat": 4,
  "nbformat_minor": 0,
  "metadata": {
    "colab": {
      "name": "rami_pandas.ipynb",
      "provenance": [],
      "collapsed_sections": []
    },
    "kernelspec": {
      "name": "python3",
      "display_name": "Python 3"
    }
  },
  "cells": [
    {
      "cell_type": "code",
      "metadata": {
        "id": "viqCV-HejraH"
      },
      "source": [
        "import pandas as pd\r\n",
        "\r\n"
      ],
      "execution_count": null,
      "outputs": []
    },
    {
      "cell_type": "code",
      "metadata": {
        "id": "8q7AFYn9pkmm"
      },
      "source": [
        "tableau = pd.read_csv(\"/content/drive/MyDrive/Data/mower_market_snapshot.csv\" , delimiter = \";\")\r\n",
        "tableau \r\n",
        "\r\n"
      ],
      "execution_count": null,
      "outputs": []
    },
    {
      "cell_type": "code",
      "metadata": {
        "id": "stx_Cxfgw93R"
      },
      "source": [
        "tableau.loc[:, ('id' , 'price')]\r\n",
        "tableau.sort_values(by = 'capacity', ascending=False)\r\n",
        "tableau.drop_duplicates(subset= ['id' , 'price'], keep = 'last')\r\n"
      ],
      "execution_count": null,
      "outputs": []
    },
    {
      "cell_type": "code",
      "metadata": {
        "id": "s8WBO0bMTYkA"
      },
      "source": [
        "tableau.loc[:200, 'prod_cost']\r\n",
        "tableau['prod_cost'].describe()"
      ],
      "execution_count": null,
      "outputs": []
    },
    {
      "cell_type": "code",
      "metadata": {
        "id": "s9J9--NMemWX"
      },
      "source": [
        "tableau.isnull().sum()"
      ],
      "execution_count": null,
      "outputs": []
    },
    {
      "cell_type": "code",
      "metadata": {
        "id": "sy1bB6vYlwfp"
      },
      "source": [
        "tableau.fillna(tableau.mean())"
      ],
      "execution_count": null,
      "outputs": []
    },
    {
      "cell_type": "code",
      "metadata": {
        "id": "6tDEtrQ1sD-0"
      },
      "source": [
        "tableau['warranty'].unique()"
      ],
      "execution_count": null,
      "outputs": []
    },
    {
      "cell_type": "code",
      "metadata": {
        "id": "9lQ9JQl2wzpm"
      },
      "source": [
        "#Quest 7"
      ],
      "execution_count": null,
      "outputs": []
    },
    {
      "cell_type": "code",
      "metadata": {
        "id": "Kx--nIdSvLTR"
      },
      "source": [
        "tableau[\"warranty\"].unique() \r\n",
        "#Quest 8"
      ],
      "execution_count": null,
      "outputs": []
    },
    {
      "cell_type": "code",
      "metadata": {
        "id": "_lqTQ1Ub29wm"
      },
      "source": [
        "tableau.loc[tableau[\"product_type\"]=='auto-portee',\"product_type\"]=1\r\n",
        "tableau.loc[tableau[\"product_type\"]=='electrique',\"product_type\"]=2\r\n",
        "tableau.loc[tableau[\"product_type\"]=='essence',\"product_type\"]=3\r\n",
        "#Quest 10"
      ],
      "execution_count": null,
      "outputs": []
    },
    {
      "cell_type": "code",
      "metadata": {
        "id": "-2DF6b5s3MX8"
      },
      "source": [
        "tableau[\"product_type\"].unique()\r\n",
        "#Quest 10"
      ],
      "execution_count": null,
      "outputs": []
    },
    {
      "cell_type": "code",
      "metadata": {
        "id": "3b5wxy8o38tQ"
      },
      "source": [
        "prix1 = tableau[(tableau[\"price\"] = '0-300') \r\n",
        "prix2 = tableau[(tableau[\"price\"] = '301-500') \r\n",
        "prix3 = tableau[(tableau[\"price\"] = '501 ++')\r\n",
        "#Quest 9"
      ],
      "execution_count": null,
      "outputs": []
    },
    {
      "cell_type": "code",
      "metadata": {
        "id": "LURVm-gE71oY"
      },
      "source": [
        "tableau[\"auto-portee\"]=0\r\n",
        "tableau[\"electrique\"]=0\r\n",
        "tableau[\"essence\"]=0\r\n",
        "#Quest 11"
      ],
      "execution_count": null,
      "outputs": []
    },
    {
      "cell_type": "code",
      "metadata": {
        "id": "W9qM2cXV8D8h"
      },
      "source": [
        "tableau.loc[tableau[\"product_type\"]==1,\"auto-portee\"]=1\r\n",
        "tableau.loc[tableau[\"product_type\"]==2,\"electrique\"]=1\r\n",
        "tableau.loc[tableau[\"product_type\"]==3,\"essence\"]=1\r\n",
        "tableau\r\n",
        "#Quest 11"
      ],
      "execution_count": null,
      "outputs": []
    }
  ]
}