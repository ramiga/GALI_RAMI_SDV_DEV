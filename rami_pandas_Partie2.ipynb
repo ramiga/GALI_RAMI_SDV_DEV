{
  "nbformat": 4,
  "nbformat_minor": 0,
  "metadata": {
    "colab": {
      "name": "rami_pandas_Partie2.ipynb",
      "provenance": [],
      "collapsed_sections": []
    },
    "kernelspec": {
      "name": "python3",
      "display_name": "Python 3"
    }
  },
  "cells": [
    {
      "cell_type": "code",
      "metadata": {
        "id": "viqCV-HejraH"
      },
      "source": [
        "import pandas as pd"
      ],
      "execution_count": null,
      "outputs": []
    },
    {
      "cell_type": "code",
      "metadata": {
        "id": "8q7AFYn9pkmm"
      },
      "source": [
        "tableau = pd.read_csv(\"/content/drive/MyDrive/Data/mower_market_snapshot.csv\" , delimiter = \";\")\r\n",
        "tableau "
      ],
      "execution_count": null,
      "outputs": []
    },
    {
      "cell_type": "code",
      "metadata": {
        "id": "s8WBO0bMTYkA"
      },
      "source": [
        "tableau.loc[:200, 'prod_cost']\r\n",
        "tableau['prod_cost'].describe()"
      ],
      "execution_count": null,
      "outputs": []
    },
    {
      "cell_type": "code",
      "metadata": {
        "id": "s9J9--NMemWX"
      },
      "source": [
        "def value(frame) :\r\n",
        "     print(frame.isnull().sum())\r\n",
        "value(tableau)"
      ],
      "execution_count": 2,
      "outputs": []
    },
    {
      "cell_type": "code",
      "metadata": {
        "id": "sy1bB6vYlwfp"
      },
      "source": [
        "def analyse(frame) :\r\n",
        "    print(frame.fillna(frame.mean())\r\n",
        "analyse(tableau)"
      ],
      "execution_count": null,
      "outputs": []
    },
    {
      "cell_type": "code",
      "metadata": {
        "id": "6tDEtrQ1sD-0"
      },
      "source": [
        "def valeur(frame) :\r\n",
        "    print(frame['warranty'].unique()\r\n",
        "valeur(tableau)"
      ],
      "execution_count": null,
      "outputs": []
    }
  ]
}